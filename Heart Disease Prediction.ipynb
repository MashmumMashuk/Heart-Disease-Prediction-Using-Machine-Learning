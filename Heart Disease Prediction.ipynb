{
 "cells": [
  {
   "cell_type": "markdown",
   "id": "7e312402",
   "metadata": {},
   "source": [
    "# Heart Disease Prediction \n",
    "\n",
    "### Here, we tried to explore the different factors and pointers (often known as symptoms ) to determine if a person is prone to or already having some sort of heart diesease!\n"
   ]
  },
  {
   "cell_type": "markdown",
   "id": "13deda76",
   "metadata": {},
   "source": [
    "## Importing Libraries as necessary\n"
   ]
  },
  {
   "cell_type": "code",
   "execution_count": 1,
   "id": "d71541e6",
   "metadata": {},
   "outputs": [],
   "source": [
    "import pandas as pd"
   ]
  },
  {
   "cell_type": "markdown",
   "id": "99fc1d01",
   "metadata": {},
   "source": [
    "## Importing Dataset"
   ]
  },
  {
   "cell_type": "code",
   "execution_count": 4,
   "id": "f647d961",
   "metadata": {},
   "outputs": [
    {
     "data": {
      "text/html": [
       "<div>\n",
       "<style scoped>\n",
       "    .dataframe tbody tr th:only-of-type {\n",
       "        vertical-align: middle;\n",
       "    }\n",
       "\n",
       "    .dataframe tbody tr th {\n",
       "        vertical-align: top;\n",
       "    }\n",
       "\n",
       "    .dataframe thead th {\n",
       "        text-align: right;\n",
       "    }\n",
       "</style>\n",
       "<table border=\"1\" class=\"dataframe\">\n",
       "  <thead>\n",
       "    <tr style=\"text-align: right;\">\n",
       "      <th></th>\n",
       "      <th>age</th>\n",
       "      <th>sex</th>\n",
       "      <th>cp</th>\n",
       "      <th>trestbps</th>\n",
       "      <th>chol</th>\n",
       "      <th>fbs</th>\n",
       "      <th>restecg</th>\n",
       "      <th>thalach</th>\n",
       "      <th>exang</th>\n",
       "      <th>oldpeak</th>\n",
       "      <th>slope</th>\n",
       "      <th>ca</th>\n",
       "      <th>thal</th>\n",
       "      <th>target</th>\n",
       "    </tr>\n",
       "  </thead>\n",
       "  <tbody>\n",
       "    <tr>\n",
       "      <th>0</th>\n",
       "      <td>52</td>\n",
       "      <td>1</td>\n",
       "      <td>0</td>\n",
       "      <td>125</td>\n",
       "      <td>212</td>\n",
       "      <td>0</td>\n",
       "      <td>1</td>\n",
       "      <td>168</td>\n",
       "      <td>0</td>\n",
       "      <td>1.0</td>\n",
       "      <td>2</td>\n",
       "      <td>2</td>\n",
       "      <td>3</td>\n",
       "      <td>0</td>\n",
       "    </tr>\n",
       "    <tr>\n",
       "      <th>1</th>\n",
       "      <td>53</td>\n",
       "      <td>1</td>\n",
       "      <td>0</td>\n",
       "      <td>140</td>\n",
       "      <td>203</td>\n",
       "      <td>1</td>\n",
       "      <td>0</td>\n",
       "      <td>155</td>\n",
       "      <td>1</td>\n",
       "      <td>3.1</td>\n",
       "      <td>0</td>\n",
       "      <td>0</td>\n",
       "      <td>3</td>\n",
       "      <td>0</td>\n",
       "    </tr>\n",
       "    <tr>\n",
       "      <th>2</th>\n",
       "      <td>70</td>\n",
       "      <td>1</td>\n",
       "      <td>0</td>\n",
       "      <td>145</td>\n",
       "      <td>174</td>\n",
       "      <td>0</td>\n",
       "      <td>1</td>\n",
       "      <td>125</td>\n",
       "      <td>1</td>\n",
       "      <td>2.6</td>\n",
       "      <td>0</td>\n",
       "      <td>0</td>\n",
       "      <td>3</td>\n",
       "      <td>0</td>\n",
       "    </tr>\n",
       "    <tr>\n",
       "      <th>3</th>\n",
       "      <td>61</td>\n",
       "      <td>1</td>\n",
       "      <td>0</td>\n",
       "      <td>148</td>\n",
       "      <td>203</td>\n",
       "      <td>0</td>\n",
       "      <td>1</td>\n",
       "      <td>161</td>\n",
       "      <td>0</td>\n",
       "      <td>0.0</td>\n",
       "      <td>2</td>\n",
       "      <td>1</td>\n",
       "      <td>3</td>\n",
       "      <td>0</td>\n",
       "    </tr>\n",
       "    <tr>\n",
       "      <th>4</th>\n",
       "      <td>62</td>\n",
       "      <td>0</td>\n",
       "      <td>0</td>\n",
       "      <td>138</td>\n",
       "      <td>294</td>\n",
       "      <td>1</td>\n",
       "      <td>1</td>\n",
       "      <td>106</td>\n",
       "      <td>0</td>\n",
       "      <td>1.9</td>\n",
       "      <td>1</td>\n",
       "      <td>3</td>\n",
       "      <td>2</td>\n",
       "      <td>0</td>\n",
       "    </tr>\n",
       "  </tbody>\n",
       "</table>\n",
       "</div>"
      ],
      "text/plain": [
       "   age  sex  cp  trestbps  chol  fbs  restecg  thalach  exang  oldpeak  slope  \\\n",
       "0   52    1   0       125   212    0        1      168      0      1.0      2   \n",
       "1   53    1   0       140   203    1        0      155      1      3.1      0   \n",
       "2   70    1   0       145   174    0        1      125      1      2.6      0   \n",
       "3   61    1   0       148   203    0        1      161      0      0.0      2   \n",
       "4   62    0   0       138   294    1        1      106      0      1.9      1   \n",
       "\n",
       "   ca  thal  target  \n",
       "0   2     3       0  \n",
       "1   0     3       0  \n",
       "2   0     3       0  \n",
       "3   1     3       0  \n",
       "4   3     2       0  "
      ]
     },
     "execution_count": 4,
     "metadata": {},
     "output_type": "execute_result"
    }
   ],
   "source": [
    "file = \"heart.csv\"\n",
    "\n",
    "df =pd.read_csv(file)\n",
    "\n",
    "df.head()"
   ]
  },
  {
   "cell_type": "markdown",
   "id": "07807323",
   "metadata": {},
   "source": [
    "### Feature description\n",
    "\n",
    "#### age -  age of the patient\n",
    "#### sex - male or female ( 0 = female , 1 = male)\n",
    "#### cp - Chest Pain \n",
    "#### trestbps - Resting Blood Pressure\n",
    "#### chol - amoung of Cholesterol present in the blood in mg/dl\n",
    "#### fbs - Fasting Blood Sugar ( 1 for high, 0 for normal)\n",
    "#### restecg - resting Electrocardiogram result\n",
    "#### thalach - maximum heartrate achieved\n",
    "#### exang - excercise induced angina\n",
    "#### oldpeak - ST depression induced by exercise relative to rest\n",
    "#### slope - slope of the ST segment during peak exercise.\n",
    "#### ca - number of major vessels colored by fluoroscopy\n",
    "#### thal - type of heart defect or abnormality identified during the exercise stress          test. It refers to the thallium scintigraphy technique, which involves            using a radioactive substance (thallium) to assess blood flow to the heart        muscle.\n",
    "####        The \"thal\" feature has three possible values:\n",
    "####        3: Normal\n",
    "####        6: Fixed defect (prior heart attack, not reversible)\n",
    "####        7: Reversible defect (partial blood flow restriction, potentially indicating ischemia)\n",
    "\n",
    "### Target\n",
    "\n",
    "#### target - Indication of having heart disease or not. (0 for No disease, 1 for Active heart disease)\n"
   ]
  },
  {
   "cell_type": "markdown",
   "id": "86369028",
   "metadata": {},
   "source": [
    "## Checking for Missing values"
   ]
  },
  {
   "cell_type": "code",
   "execution_count": 5,
   "id": "40cf15fb",
   "metadata": {},
   "outputs": [
    {
     "data": {
      "text/plain": [
       "age         0\n",
       "sex         0\n",
       "cp          0\n",
       "trestbps    0\n",
       "chol        0\n",
       "fbs         0\n",
       "restecg     0\n",
       "thalach     0\n",
       "exang       0\n",
       "oldpeak     0\n",
       "slope       0\n",
       "ca          0\n",
       "thal        0\n",
       "target      0\n",
       "dtype: int64"
      ]
     },
     "execution_count": 5,
     "metadata": {},
     "output_type": "execute_result"
    }
   ],
   "source": [
    "df.isnull().sum()"
   ]
  },
  {
   "cell_type": "markdown",
   "id": "124c8978",
   "metadata": {},
   "source": [
    "This indicates that there are no missing values in the dataset"
   ]
  },
  {
   "cell_type": "markdown",
   "id": "c2a0aa41",
   "metadata": {},
   "source": [
    "## Checking for Duplicate values and managing them"
   ]
  },
  {
   "cell_type": "code",
   "execution_count": 7,
   "id": "45269eab",
   "metadata": {},
   "outputs": [
    {
     "data": {
      "text/plain": [
       "True"
      ]
     },
     "execution_count": 7,
     "metadata": {},
     "output_type": "execute_result"
    }
   ],
   "source": [
    "df_dup = df.duplicated().any()\n",
    "df_dup"
   ]
  },
  {
   "cell_type": "code",
   "execution_count": 9,
   "id": "f5982819",
   "metadata": {},
   "outputs": [],
   "source": [
    "df = df.drop_duplicates()"
   ]
  },
  {
   "cell_type": "code",
   "execution_count": 11,
   "id": "35f77fb7",
   "metadata": {},
   "outputs": [
    {
     "data": {
      "text/plain": [
       "False"
      ]
     },
     "execution_count": 11,
     "metadata": {},
     "output_type": "execute_result"
    }
   ],
   "source": [
    "df.duplicated().any()"
   ]
  },
  {
   "cell_type": "markdown",
   "id": "21aafbd9",
   "metadata": {},
   "source": [
    "The duplicated values have been handled"
   ]
  },
  {
   "cell_type": "markdown",
   "id": "c99ea6ed",
   "metadata": {},
   "source": [
    "# Data Processing"
   ]
  },
  {
   "cell_type": "code",
   "execution_count": 14,
   "id": "6b05f1d6",
   "metadata": {},
   "outputs": [
    {
     "name": "stdout",
     "output_type": "stream",
     "text": [
      "Catagorical value columns are :  ['sex', 'cp', 'fbs', 'restecg', 'exang', 'slope', 'ca', 'thal', 'target']\n",
      "Numerical value columns are. :  ['age', 'trestbps', 'chol', 'thalach', 'oldpeak']\n"
     ]
    }
   ],
   "source": [
    "#Dividing the dataset into catagorical and numerical value columns\n",
    "\n",
    "#catergorical Columns\n",
    "cat_col = []\n",
    "\n",
    "#Numerical Columns\n",
    "num_col = []\n",
    "\n",
    "\n",
    "#Here in the dataset the catagorical values are mostly in between the range of 1-7. And numerical Values ranges above 10.\n",
    "\n",
    "for column in df.columns :\n",
    "    if df[column].nunique() <= 10 :\n",
    "        cat_col.append(column)\n",
    "    else :\n",
    "        num_col.append(column)\n",
    "        \n",
    "# Checking cat_col and num_col\n",
    "\n",
    "print(\"Catagorical value columns are : \" , cat_col)\n",
    "print(\"Numerical value columns are. : \" , num_col)"
   ]
  },
  {
   "cell_type": "code",
   "execution_count": null,
   "id": "9d72e14f",
   "metadata": {},
   "outputs": [],
   "source": []
  }
 ],
 "metadata": {
  "kernelspec": {
   "display_name": "Python 3 (ipykernel)",
   "language": "python",
   "name": "python3"
  },
  "language_info": {
   "codemirror_mode": {
    "name": "ipython",
    "version": 3
   },
   "file_extension": ".py",
   "mimetype": "text/x-python",
   "name": "python",
   "nbconvert_exporter": "python",
   "pygments_lexer": "ipython3",
   "version": "3.10.9"
  }
 },
 "nbformat": 4,
 "nbformat_minor": 5
}
